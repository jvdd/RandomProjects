{
 "cells": [
  {
   "cell_type": "markdown",
   "metadata": {},
   "source": [
    "# Mini Neural Network"
   ]
  },
  {
   "cell_type": "code",
   "execution_count": 111,
   "metadata": {},
   "outputs": [],
   "source": [
    "from abc import ABC\n",
    "\n",
    "import numpy as np\n",
    "import random\n",
    "\n",
    "def linear(x):\n",
    "    return x\n",
    "\n",
    "class Neuron:\n",
    "    \n",
    "    def __init__(self, nb_input):\n",
    "        self.weights = [random.uniform(-1,1) for _ in range(nb_input)]\n",
    "        self.bias = 0\n",
    "        self.activation = linear\n",
    "        \n",
    "    def forward(self, x):\n",
    "        weighted_sum = np.sum(np.array(self.weights) * np.array(x)) + self.bias\n",
    "        return self.activation(weighted_sum)\n",
    "    \n",
    "    def __repr__(self):\n",
    "        return 'Neuron inp_' + str(len(self.weights))\n",
    "    \n",
    "\n",
    "class Layer:\n",
    "    \n",
    "    def __init__(self, nb_input, nb_output):\n",
    "        self.neurons = [Neuron(nb_input) for _ in range(nb_output)]\n",
    "        \n",
    "    def forward(self, x):\n",
    "        return [neuron.forward(x) for neuron in self.neurons]\n",
    "    \n",
    "    def __repr__(self):\n",
    "        return 'Layer -> ' + str(self.neurons)\n",
    "    \n",
    "    \n",
    "class MLP:\n",
    "    \n",
    "    def __init__(self, input_dim, layers):\n",
    "        self.layers = [Layer(input_dim, layers[0])] + [Layer(layers[i-1], layers[i]) for i in range(1,len(layers))]\n",
    "        \n",
    "    def forward(self, x):\n",
    "        for layer in self.layers:\n",
    "            x = layer.forward(x)\n",
    "        return x\n",
    "    \n",
    "    def backward(self, x):\n",
    "        pass"
   ]
  },
  {
   "cell_type": "code",
   "execution_count": 112,
   "metadata": {},
   "outputs": [
    {
     "data": {
      "text/plain": [
       "[Layer -> [Neuron inp_3, Neuron inp_3, Neuron inp_3, Neuron inp_3],\n",
       " Layer -> [Neuron inp_4, Neuron inp_4, Neuron inp_4, Neuron inp_4, Neuron inp_4],\n",
       " Layer -> [Neuron inp_5, Neuron inp_5]]"
      ]
     },
     "execution_count": 112,
     "metadata": {},
     "output_type": "execute_result"
    }
   ],
   "source": [
    "nn = MLP(3, [4,5,2])\n",
    "nn.layers"
   ]
  },
  {
   "cell_type": "code",
   "execution_count": 106,
   "metadata": {},
   "outputs": [
    {
     "data": {
      "text/plain": [
       "[1.2667582767079248, -1.07767785844901]"
      ]
     },
     "execution_count": 106,
     "metadata": {},
     "output_type": "execute_result"
    }
   ],
   "source": [
    "nn.forward([1,2,1])"
   ]
  },
  {
   "cell_type": "markdown",
   "metadata": {},
   "source": [
    "# Oud"
   ]
  },
  {
   "cell_type": "code",
   "execution_count": null,
   "metadata": {},
   "outputs": [],
   "source": [
    "class NeuralNetwork(ABC):\n",
    "    \n",
    "    def forward(self, x): # Calculates the output given the input\n",
    "        pass\n",
    "    \n",
    "    def backward(self, x, y): # Updates the weights based on the loss for the given expected output\n",
    "        pass\n",
    "\n",
    "\n",
    "class FullyConnectedNN(NeuralNetwork):\n",
    "    \n",
    "    def __init__(self, input_dim, layers, loss_func, activation, learning_rate):\n",
    "        self.weights = [[[0]*input_dim]*layers[0]] + [[[0]*layers[i-1]]*layers[i] for i in range(1,len(layers))] # [[0]*input_dim] + [[0]*layer_nb for layer_nb in layers]\n",
    "        self.loss = loss_func\n",
    "        self.activation = activation       \n",
    "        \n",
    "    def forward(self, x):\n",
    "        for layer in self.weights:\n",
    "            new_x = []\n",
    "            for neuron in layer: # neuron corresponds to a list of weights\n",
    "                weighted_sum = np.sum(np.array(x) * np.array(neuron)) # Calculate weighted sum of input\n",
    "                new_x.append(self.activation(weighted_sum)) # Apply the activation function to the weighted sum\n",
    "            x = new_x\n",
    "        return x\n",
    "        \n",
    "    def backward(self, x, y):\n",
    "        y_pred = self.forward(x)\n",
    "        # Gradient descent\n",
    "        diff = y - y_pred\n",
    "        for layer in self.weights[::-1]: # In the backwards direction\n",
    "            for neuron in layer:\n",
    "                neuron.weights -= learning_rate * diff\n",
    "        \n",
    "    def predict(self, x):\n",
    "        return self.forward(x)"
   ]
  },
  {
   "cell_type": "markdown",
   "metadata": {},
   "source": [
    "Test a 3-2-3 NN with as input dimension 5 and loss function MSE"
   ]
  },
  {
   "cell_type": "code",
   "execution_count": 49,
   "metadata": {},
   "outputs": [
    {
     "data": {
      "text/plain": [
       "[[[0, 0, 0, 0, 0], [0, 0, 0, 0, 0], [0, 0, 0, 0, 0]],\n",
       " [[0, 0, 0], [0, 0, 0]],\n",
       " [[0, 0], [0, 0], [0, 0]]]"
      ]
     },
     "execution_count": 49,
     "metadata": {},
     "output_type": "execute_result"
    }
   ],
   "source": [
    "import numpy as np\n",
    "\n",
    "def mse(x_1, x_2):\n",
    "    assert len(x_1) == len(x_2)\n",
    "    return np.sum((np.array(x_1) - np.array(x_2))**2)\n",
    "\n",
    "NN = FullyConnectedNN(5, [3,2,3], mse, linear, 3e-3)\n",
    "NN.weights"
   ]
  },
  {
   "cell_type": "code",
   "execution_count": 50,
   "metadata": {},
   "outputs": [
    {
     "data": {
      "text/plain": [
       "[0, 0, 0]"
      ]
     },
     "execution_count": 50,
     "metadata": {},
     "output_type": "execute_result"
    }
   ],
   "source": [
    "NN.forward([1,2,3,4,5])"
   ]
  },
  {
   "cell_type": "code",
   "execution_count": 44,
   "metadata": {},
   "outputs": [
    {
     "data": {
      "text/plain": [
       "array([1, 4, 9])"
      ]
     },
     "execution_count": 44,
     "metadata": {},
     "output_type": "execute_result"
    }
   ],
   "source": [
    "np.array([1,2,3]) * np.array([1,2,3])"
   ]
  },
  {
   "cell_type": "code",
   "execution_count": null,
   "metadata": {},
   "outputs": [],
   "source": []
  }
 ],
 "metadata": {
  "kernelspec": {
   "display_name": "Python 3",
   "language": "python",
   "name": "python3"
  },
  "language_info": {
   "codemirror_mode": {
    "name": "ipython",
    "version": 3
   },
   "file_extension": ".py",
   "mimetype": "text/x-python",
   "name": "python",
   "nbconvert_exporter": "python",
   "pygments_lexer": "ipython3",
   "version": "3.6.9"
  }
 },
 "nbformat": 4,
 "nbformat_minor": 4
}
